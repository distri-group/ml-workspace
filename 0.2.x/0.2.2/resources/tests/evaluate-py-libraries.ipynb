{
 "cells": [
  {
   "cell_type": "markdown",
   "metadata": {},
   "source": [
    "# Evaluate Python Libraries <a class=\"tocSkip\">"
   ]
  },
  {
   "cell_type": "markdown",
   "metadata": {},
   "source": [
    "**In this notebook:**\n",
    "\n",
    "- Install all libraries from best-of list in virtual environments and track metrics\n",
    "- Help select and evaluate libraries for installation in ml-workspace\n",
    "- Check workspace installation\n",
    "\n",
    "_Please use a Python 3 kernel for the notebook_"
   ]
  },
  {
   "cell_type": "markdown",
   "metadata": {},
   "source": [
    "## Dependencies"
   ]
  },
  {
   "cell_type": "markdown",
   "metadata": {},
   "source": [
    "### Install Dependencies"
   ]
  },
  {
   "cell_type": "code",
   "execution_count": null,
   "metadata": {
    "ExecuteTime": {
     "end_time": "2020-12-02T20:54:26.209284Z",
     "start_time": "2020-12-02T20:53:42.267886Z"
    }
   },
   "outputs": [],
   "source": [
    "!pip install -q qgrid\n",
    "!jupyter nbextension enable --py --sys-prefix qgrid\n",
    "!pip install -q pur\n",
    "!pip install -q best-of"
   ]
  },
  {
   "cell_type": "code",
   "execution_count": null,
   "metadata": {
    "ExecuteTime": {
     "end_time": "2020-12-07T10:33:10.702854Z",
     "start_time": "2020-12-07T10:33:08.067148Z"
    }
   },
   "outputs": [],
   "source": [
    "!git clone https://github.com/ml-tooling/best-of-ml-python"
   ]
  },
  {
   "cell_type": "markdown",
   "metadata": {
    "ExecuteTime": {
     "end_time": "2018-02-26T18:45:12.799022Z",
     "start_time": "2018-02-26T18:45:12.784137Z"
    }
   },
   "source": [
    "### Import Dependencies"
   ]
  },
  {
   "cell_type": "code",
   "execution_count": null,
   "metadata": {
    "ExecuteTime": {
     "end_time": "2020-12-02T20:54:27.140632Z",
     "start_time": "2020-12-02T20:54:26.216363Z"
    }
   },
   "outputs": [],
   "source": [
    "# System libraries\n",
    "import logging, os, sys\n",
    "import re, shutil\n",
    "import subprocess\n",
    "import time\n",
    "import glob, os\n",
    "import json\n",
    "from collections import Counter\n",
    "\n",
    "# Enable logging\n",
    "logging.basicConfig(format='[%(levelname)s] %(message)s', level=logging.INFO, stream=sys.stdout)\n",
    "\n",
    "#logging.basicConfig(format='[%(levelname)s] %(message)s', level=logging.DEBUG, stream=sys.stdout)\n",
    "log = logging.getLogger()\n",
    "\n",
    "# Re-import packages if they change\n",
    "%load_ext autoreload\n",
    "%autoreload 2\n",
    "\n",
    "# Intialize tqdm to always use the notebook progress bar\n",
    "from tqdm.autonotebook import tqdm as tqdm_notebook\n",
    "import tqdm\n",
    "tqdm.tqdm = tqdm_notebook\n",
    "\n",
    "# Third-party libraries\n",
    "import numpy as np\n",
    "import pandas as pd\n",
    "\n",
    "log = logging.getLogger()\n",
    "\n",
    "# TODO: Need to set github and libraries.io API key \n",
    "os.environ[\"LIBRARIES_API_KEY\"] = \"<API_KEY>\"\n",
    "os.environ[\"GITHUB_API_KEY\"] = \"<API_KEY>\""
   ]
  },
  {
   "cell_type": "markdown",
   "metadata": {},
   "source": [
    "## Utilities"
   ]
  },
  {
   "cell_type": "code",
   "execution_count": null,
   "metadata": {
    "ExecuteTime": {
     "end_time": "2020-12-02T20:54:27.214111Z",
     "start_time": "2020-12-02T20:54:27.147756Z"
    }
   },
   "outputs": [],
   "source": [
    "def simplify(text) -> str:\n",
    "    return re.compile(r\"[^a-zA-Z0-9-]\").sub(\"-\", \" \".join(str(text).split()).strip()).lower()\n",
    "\n",
    "def call(command, **kwargs):\n",
    "    log.debug(\"Executing: \"+command)\n",
    "    return subprocess.call(command, shell=True, **kwargs)\n",
    "\n",
    "def get_folder_size(folder_path: str):\n",
    "    return int(subprocess.check_output(['du', '-s', folder_path]).split()[0].decode('utf-8'))\n",
    "\n",
    "def get_package_paths(venv_path: str) -> list:\n",
    "    package_paths = []\n",
    "    for file_path in glob.iglob(venv_path.rstrip(\"/\") + '/lib64/python3.8/site-packages/**', recursive=False):\n",
    "        if os.path.isdir(file_path): # filter dirs\n",
    "            file_name = os.path.basename(file_path)\n",
    "            if \"dist-info\" not in file_name:\n",
    "                # Ignore dist-info folders\n",
    "                continue\n",
    "            \n",
    "            \n",
    "            if file_name.startswith(\"pip\") or file_name.startswith(\"setuptools\"):\n",
    "                continue\n",
    "            package_paths.append(file_path)\n",
    "    return package_paths\n",
    "\n",
    "def evaluate_libs(df_projects: pd.DataFrame, eval_root_path: str = \"./eval-libs\") -> pd.DataFrame and Counter:\n",
    "    os.makedirs(eval_root_path, exist_ok=True)\n",
    "\n",
    "    venv_root_path = os.path.join(eval_root_path, \"venv\")\n",
    "    os.makedirs(venv_root_path, exist_ok=True)\n",
    "\n",
    "    logs_root_path = os.path.join(eval_root_path, \"logs\")\n",
    "    os.makedirs(logs_root_path, exist_ok=True)\n",
    "\n",
    "    requirements_counter = Counter()\n",
    "\n",
    "    df_projects_evaluated = df_projects.copy()\n",
    "    for i, row in tqdm.tqdm(df_projects_evaluated.iterrows(), total=df_projects_evaluated.shape[0]):\n",
    "        pypi_id = row[\"pypi_id\"]\n",
    "        if not pypi_id:\n",
    "            continue\n",
    "        \n",
    "        #if \"install_successful\" in row:\n",
    "        #    if str(row[\"install_successful\"]):\n",
    "        #        print(\"Already evaluated (skipping): \" + pypi_id)\n",
    "        #        continue\n",
    "        \n",
    "        print(\"Evaluating \" + pypi_id)\n",
    "    \n",
    "        package_install_dir = os.path.join(venv_root_path, simplify(pypi_id))\n",
    "        package_log_dir = os.path.join(logs_root_path, simplify(pypi_id))\n",
    "        os.makedirs(package_log_dir, exist_ok=True)\n",
    "    \n",
    "        # Create virtual environment\n",
    "        if call(sys.executable + \" -m venv --system-site-packages --symlinks \" + package_install_dir) > 0:\n",
    "            log.warning(\"Failed to create venv for: \" + pypi_id)\n",
    "            continue\n",
    "    \n",
    "        initial_folder_size = get_folder_size(package_install_dir)\n",
    "        start = time.time()\n",
    "    \n",
    "        source_venv_cmd = \". \" + os.path.join(package_install_dir, \"bin/activate\")\n",
    "        pip_install_cmd = \"pip install --no-use-pep517 \" + pypi_id\n",
    "        if \"pypi_version_spec\" in row and row[\"pypi_version_spec\"]:\n",
    "            # if version spec is provided, try this specific version\n",
    "            pip_install_cmd += str(row[\"pypi_version_spec\"])\n",
    "        \n",
    "        install_log_file = open(os.path.join(package_log_dir, \"install_logs.txt\"), \"w\")\n",
    "        # Source and run installation\n",
    "        if call(source_venv_cmd + \" && \" + pip_install_cmd, stderr=subprocess.STDOUT, stdout=install_log_file) > 0:\n",
    "            install_log_file.close()\n",
    "            log.warning(\"Failed to install package: \" + pypi_id)\n",
    "            df_projects_evaluated.at[i, 'install_successful'] = False\n",
    "            shutil.rmtree(package_install_dir)\n",
    "            continue\n",
    "    \n",
    "        install_log_file.close()\n",
    "    \n",
    "        df_projects_evaluated.at[i, 'install_successful'] = True\n",
    "    \n",
    "        # seconds\n",
    "        df_projects_evaluated.at[i, 'install_time'] = time.time() - start\n",
    "        # kilobytes\n",
    "        df_projects_evaluated.at[i, 'install_total_size'] = get_folder_size(package_install_dir) - initial_folder_size    # number of installed requirements\n",
    "    \n",
    "        requirements_count = len(get_package_paths(package_install_dir))\n",
    "        try:\n",
    "            package_count = 0\n",
    "            for package in json.loads(subprocess.check_output(source_venv_cmd + \" && pip list --local --format=json\", shell=True).decode('utf-8')):\n",
    "                if package[\"name\"] not in [\"pip\", \"setuptools\"]:\n",
    "                    requirements_counter[package[\"name\"].lower().strip()] += 1\n",
    "                    package_count += 1\n",
    "            if package_count != requirements_count:\n",
    "                log.warning(\"Pip list count (\" + str(package_count) + \") is different to folder count (\" + str(requirements_count) + \").\")\n",
    "                if package_count > requirements_count:\n",
    "                    # if package count is higher, use package count\n",
    "                    requirements_count = package_count\n",
    "        except Exception as ex:\n",
    "            log.warning(\"Failed to parse pip-list.\", exc_info=ex)\n",
    "            pass\n",
    "    \n",
    "        df_projects_evaluated.at[i, 'install_requirements'] = requirements_count\n",
    "    \n",
    "        # Create logs\n",
    "        package_sizes_file = open(os.path.join(package_log_dir, \"package_sizes.txt\"), \"w\")\n",
    "        package_size_command = \"pip list --local | sed '/Package/d' | sed '/----/d' | sed -r 's/\\S+//2' | xargs pip show | grep -E 'Location:|Name:' | cut -d ' ' -f 2 | paste -d ' ' - - | awk '{print $2 \\\"/\\\" $(find $2 -maxdepth 1 -iname $1)}' | xargs du -sh  | sort -rh\"\n",
    "        call(source_venv_cmd + \" && \" + package_size_command, stderr=subprocess.STDOUT, stdout=package_sizes_file)\n",
    "        package_sizes_file.close()\n",
    "    \n",
    "        pipdeptree_file = open(os.path.join(package_log_dir, \"pipdeptree.txt\"), \"w\")\n",
    "        call(source_venv_cmd + \" && pip install -q pipdeptree && pipdeptree --local-only\", stderr=subprocess.STDOUT, stdout=pipdeptree_file)\n",
    "        pipdeptree_file.close()\n",
    "    \n",
    "        # Remove virtual environment\n",
    "        shutil.rmtree(package_install_dir)\n",
    "    shutil.rmtree(venv_root_path)\n",
    "    return df_projects_evaluated, requirements_counter"
   ]
  },
  {
   "cell_type": "markdown",
   "metadata": {},
   "source": [
    "## Evaluate Best-of Lists "
   ]
  },
  {
   "cell_type": "code",
   "execution_count": null,
   "metadata": {
    "ExecuteTime": {
     "end_time": "2020-12-02T20:54:27.899499Z",
     "start_time": "2020-12-02T20:54:27.222792Z"
    },
    "code_folding": []
   },
   "outputs": [],
   "source": [
    "EVAL_ROOT_PATH = \"/workspace/package-evals\"\n",
    "BEST_OF_LISTS = [\"/workspace/best-of-ml-python/history/2020-11-30_projects.csv\"]\n",
    "\n",
    "# Combine all best-of-lists into one based on pypi_id\n",
    "pypi_projects = {}\n",
    "for project_csv_path in BEST_OF_LISTS:\n",
    "    df_projects = pd.read_csv(project_csv_path, index_col=0, keep_default_na=False)\n",
    "    for i, row in df_projects.iterrows():\n",
    "        if \"pypi_id\" in row and row[\"pypi_id\"]:\n",
    "            pypi_id = simplify(row[\"pypi_id\"])\n",
    "            if pypi_id not in pypi_projects:\n",
    "                pypi_projects[pypi_id] = row.to_dict()\n",
    "\n",
    "df_projects = pd.DataFrame(pypi_projects.values())\n",
    "df_projects.head()"
   ]
  },
  {
   "cell_type": "code",
   "execution_count": null,
   "metadata": {
    "ExecuteTime": {
     "start_time": "2020-12-02T23:13:02.423Z"
    }
   },
   "outputs": [],
   "source": [
    "# Evaluate\n",
    "df_projects_evaluated, req_counter = evaluate_libs(df_projects, EVAL_ROOT_PATH)"
   ]
  },
  {
   "cell_type": "markdown",
   "metadata": {},
   "source": [
    "### Evaluation Results"
   ]
  },
  {
   "cell_type": "code",
   "execution_count": null,
   "metadata": {
    "ExecuteTime": {
     "start_time": "2020-12-02T20:53:58.015Z"
    }
   },
   "outputs": [],
   "source": [
    "import qgrid\n",
    "qgrid.show_grid(df_projects_evaluated[['pypi_id', \"projectrank\", \"license\", \"install_successful\", \"install_total_size\", \"install_requirements\", \"install_time\" ]])"
   ]
  },
  {
   "cell_type": "markdown",
   "metadata": {},
   "source": [
    "### Most Common Dependencies"
   ]
  },
  {
   "cell_type": "code",
   "execution_count": null,
   "metadata": {
    "ExecuteTime": {
     "start_time": "2020-12-02T21:22:46.232Z"
    }
   },
   "outputs": [],
   "source": [
    "# Most common requirements\n",
    "req_counter.most_common(100)"
   ]
  },
  {
   "cell_type": "markdown",
   "metadata": {},
   "source": [
    "## Update Requirement Versions\n",
    "Creates new requirements file "
   ]
  },
  {
   "cell_type": "code",
   "execution_count": null,
   "metadata": {
    "ExecuteTime": {
     "start_time": "2020-12-02T21:22:46.908Z"
    }
   },
   "outputs": [],
   "source": [
    "REQUIREMENTS_PATH = '/resources/libraries/requirements-full.txt'\n",
    "UPDATED_REQUIREMENTS_PATH = \"./requirements-full-updated.txt\"\n",
    "\n",
    "from pur import update_requirements\n",
    "update_requirements(input_file=REQUIREMENTS_PATH, \n",
    "                    output_file=UPDATED_REQUIREMENTS_PATH, \n",
    "                    echo=True,\n",
    "                    force=True)\n",
    "\n",
    "# TODO export update messages to log file:\n",
    "# https://github.com/alanhamlett/pip-update-requirements"
   ]
  },
  {
   "cell_type": "markdown",
   "metadata": {},
   "source": [
    "## Gather Requirement Information"
   ]
  },
  {
   "cell_type": "code",
   "execution_count": null,
   "metadata": {
    "ExecuteTime": {
     "start_time": "2020-12-02T21:22:48.528Z"
    }
   },
   "outputs": [],
   "source": [
    "import requirements\n",
    "from best_of.integrations.pypi_integration import PypiIntegration\n",
    "from best_of.integrations import github_integration\n",
    "from addict import Dict\n",
    "\n",
    "pypi_integration = PypiIntegration()\n",
    "\n",
    "pypi_projects = {}\n",
    "for i, row in df_projects_evaluated.iterrows():\n",
    "    if \"pypi_id\" in row and row[\"pypi_id\"]:\n",
    "        pypi_projects[simplify(row[\"pypi_id\"])] = row.to_dict()\n",
    "\n",
    "requirements_projects = []\n",
    "untracked_projects = []\n",
    "projects = set()\n",
    "\n",
    "with open(UPDATED_REQUIREMENTS_PATH, 'r') as myfile:\n",
    "    for req in tqdm.tqdm(requirements.parse(myfile.read())):\n",
    "        version_spec = None\n",
    "        if req.specs:\n",
    "            version_spec = ''.join(map(str,[i for sub in req.specs for i in sub]))\n",
    "        \n",
    "        simplified_name = simplify(req.name)\n",
    "        if simplified_name in projects:\n",
    "            print(\"Project \" + req.name + \" is duplicated.\")\n",
    "        \n",
    "        projects.add(simplified_name)\n",
    "        \n",
    "        if simplified_name in pypi_projects:\n",
    "            # Project is already in the project list\n",
    "            project_info = pypi_projects[simplified_name]\n",
    "            # add pypi_spec\n",
    "            if version_spec:\n",
    "                project_info[\"pypi_version_spec\"] = version_spec\n",
    "            requirements_projects.append(project_info)\n",
    "            # remove project from dict -> we will only have projects that werent added\n",
    "            del pypi_projects[simplified_name]\n",
    "            continue\n",
    "        project = Dict()\n",
    "        project.pypi_id = req.name\n",
    "        if version_spec:\n",
    "            project.pypi_version_spec = version_spec\n",
    "\n",
    "        pypi_integration.update_project_info(project)\n",
    "        github_integration.update_via_github(project)\n",
    "        \n",
    "        requirements_projects.append(project.to_dict())\n",
    "        untracked_projects.append(project.to_dict())\n",
    "\n",
    "df_requirements = pd.DataFrame(requirements_projects)\n",
    "df_untracked_projects = pd.DataFrame(untracked_projects)\n",
    "df_potential_projects = pd.DataFrame(pypi_projects.values())"
   ]
  },
  {
   "cell_type": "markdown",
   "metadata": {},
   "source": [
    "## Untracked Requirements\n",
    "Requirements that are only in the requirements file but not on the best-of-list"
   ]
  },
  {
   "cell_type": "code",
   "execution_count": null,
   "metadata": {
    "ExecuteTime": {
     "end_time": "2020-12-02T03:42:12.597992Z",
     "start_time": "2020-12-02T03:42:12.460055Z"
    }
   },
   "outputs": [],
   "source": [
    "import qgrid\n",
    "qgrid.show_grid(df_untracked_projects[['pypi_id', 'github_id', \"projectrank\", \"license\"]])"
   ]
  },
  {
   "cell_type": "markdown",
   "metadata": {},
   "source": [
    "## Evaluate Requirement Installs\n",
    "This also uses the specific version used in the requirements file."
   ]
  },
  {
   "cell_type": "code",
   "execution_count": null,
   "metadata": {
    "ExecuteTime": {
     "end_time": "2020-12-02T06:17:33.248882Z",
     "start_time": "2020-12-02T03:42:12.601883Z"
    }
   },
   "outputs": [],
   "source": [
    "EVAL_REQUIREMENTS_ROOT_PATH = \"/workspace/requirements-evals\"\n",
    "df_requirements_evaluated, req_counter = evaluate_libs(df_requirements, EVAL_REQUIREMENTS_ROOT_PATH)"
   ]
  },
  {
   "cell_type": "markdown",
   "metadata": {},
   "source": [
    "### Evaluation Results"
   ]
  },
  {
   "cell_type": "code",
   "execution_count": null,
   "metadata": {
    "ExecuteTime": {
     "end_time": "2020-12-02T06:17:37.847813Z",
     "start_time": "2020-12-02T06:17:33.300971Z"
    }
   },
   "outputs": [],
   "source": [
    "import qgrid\n",
    "qgrid.show_grid(df_requirements_evaluated[['name', 'pypi_id', \"projectrank\", \"license\", \"install_successful\", \"install_total_size\", \"install_requirements\", \"install_time\" ]])"
   ]
  },
  {
   "cell_type": "markdown",
   "metadata": {},
   "source": [
    "### Most Common Dependencies"
   ]
  },
  {
   "cell_type": "code",
   "execution_count": null,
   "metadata": {
    "ExecuteTime": {
     "end_time": "2020-12-02T06:17:37.972681Z",
     "start_time": "2020-12-02T06:17:37.854820Z"
    }
   },
   "outputs": [],
   "source": [
    "# Most common requirements\n",
    "req_counter.most_common(25)"
   ]
  },
  {
   "cell_type": "markdown",
   "metadata": {},
   "source": [
    "## Potential Requirement Additions"
   ]
  },
  {
   "cell_type": "code",
   "execution_count": null,
   "metadata": {
    "ExecuteTime": {
     "end_time": "2020-12-02T06:17:38.311700Z",
     "start_time": "2020-12-02T06:17:37.984912Z"
    }
   },
   "outputs": [],
   "source": [
    "import qgrid\n",
    "qgrid.show_grid(df_potential_projects[['pypi_id', 'github_id', \"projectrank\", \"license\", \"install_successful\", \"install_total_size\", \"install_requirements\", \"install_time\" ]])"
   ]
  },
  {
   "cell_type": "markdown",
   "metadata": {},
   "source": [
    "## Install Requirements File "
   ]
  },
  {
   "cell_type": "code",
   "execution_count": null,
   "metadata": {
    "ExecuteTime": {
     "end_time": "2019-12-23T18:35:58.592735Z",
     "start_time": "2019-12-23T18:32:21.167899Z"
    }
   },
   "outputs": [],
   "source": [
    "!pip install --upgrade -r $UPDATED_REQUIREMENTS_PATH > \"./requirement-installs.txt\""
   ]
  },
  {
   "cell_type": "markdown",
   "metadata": {},
   "source": [
    "## Check Library Sizes"
   ]
  },
  {
   "cell_type": "code",
   "execution_count": null,
   "metadata": {
    "ExecuteTime": {
     "end_time": "2019-12-23T18:42:51.231638Z",
     "start_time": "2019-12-23T18:42:06.658092Z"
    }
   },
   "outputs": [],
   "source": [
    "!pip list | sed '/Package/d' | sed '/----/d' | sed -r 's/\\S+//2' | xargs pip show | grep -E 'Location:|Name:' | cut -d ' ' -f 2 | paste -d ' ' - - | awk '{print $2 \"/\" $(find $2 -maxdepth 1 -iname $1)}' | xargs du -sh  | sort -rh"
   ]
  },
  {
   "cell_type": "markdown",
   "metadata": {},
   "source": [
    "## Check Library Conflicts"
   ]
  },
  {
   "cell_type": "code",
   "execution_count": null,
   "metadata": {
    "ExecuteTime": {
     "end_time": "2019-12-23T18:43:01.739162Z",
     "start_time": "2019-12-23T18:42:51.242063Z"
    }
   },
   "outputs": [],
   "source": [
    "!pip check"
   ]
  },
  {
   "cell_type": "markdown",
   "metadata": {},
   "source": [
    "## Python Vulnerability Scan"
   ]
  },
  {
   "cell_type": "code",
   "execution_count": null,
   "metadata": {
    "ExecuteTime": {
     "end_time": "2019-12-23T18:43:27.974188Z",
     "start_time": "2019-12-23T18:43:16.680102Z"
    }
   },
   "outputs": [],
   "source": [
    "!pip install -q safety\n",
    "!safety check"
   ]
  },
  {
   "cell_type": "markdown",
   "metadata": {},
   "source": [
    "## Generate Requirements Markdown"
   ]
  },
  {
   "cell_type": "code",
   "execution_count": null,
   "metadata": {},
   "outputs": [],
   "source": []
  }
 ],
 "metadata": {
  "kernelspec": {
   "display_name": "Python 3",
   "language": "python",
   "name": "python3"
  },
  "language_info": {
   "codemirror_mode": {
    "name": "ipython",
    "version": 3
   },
   "file_extension": ".py",
   "mimetype": "text/x-python",
   "name": "python",
   "nbconvert_exporter": "python",
   "pygments_lexer": "ipython3",
   "version": "3.8.5"
  },
  "toc": {
   "base_numbering": 1,
   "nav_menu": {
    "height": "840px",
    "width": "569px"
   },
   "number_sections": true,
   "sideBar": true,
   "skip_h1_title": false,
   "title_cell": "Table of Contents",
   "title_sidebar": "Contents",
   "toc_cell": false,
   "toc_position": {},
   "toc_section_display": "block",
   "toc_window_display": false
  },
  "varInspector": {
   "cols": {
    "lenName": 16,
    "lenType": 16,
    "lenVar": 40
   },
   "kernels_config": {
    "python": {
     "delete_cmd_postfix": "",
     "delete_cmd_prefix": "del ",
     "library": "var_list.py",
     "varRefreshCmd": "print(var_dic_list())"
    },
    "r": {
     "delete_cmd_postfix": ") ",
     "delete_cmd_prefix": "rm(",
     "library": "var_list.r",
     "varRefreshCmd": "cat(var_dic_list()) "
    }
   },
   "types_to_exclude": [
    "module",
    "function",
    "builtin_function_or_method",
    "instance",
    "_Feature"
   ],
   "window_display": false
  }
 },
 "nbformat": 4,
 "nbformat_minor": 2
}
