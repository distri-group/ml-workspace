{
 "cells": [
  {
   "cell_type": "markdown",
   "metadata": {},
   "source": [
    "# Test Tool Installers  <a class=\"tocSkip\">"
   ]
  },
  {
   "cell_type": "markdown",
   "metadata": {},
   "source": [
    "**In this notebook:**\n",
    "\n",
    "- Test all tool installers.\n",
    "\n",
    "_Please use a Python 3 kernel for the notebook_"
   ]
  },
  {
   "cell_type": "markdown",
   "metadata": {},
   "source": [
    "## Dependencies"
   ]
  },
  {
   "cell_type": "code",
   "execution_count": null,
   "metadata": {
    "ExecuteTime": {
     "end_time": "2020-12-06T21:47:01.229174Z",
     "start_time": "2020-12-06T21:47:00.852898Z"
    }
   },
   "outputs": [],
   "source": [
    "# System libraries\n",
    "import logging, os, sys\n",
    "import re, shutil\n",
    "import subprocess\n",
    "import time\n",
    "import glob, os\n",
    "import json\n",
    "from collections import Counter\n",
    "from typing import List\n",
    "\n",
    "# Enable logging\n",
    "logging.basicConfig(\n",
    "    format=\"[%(levelname)s] %(message)s\", level=logging.INFO, stream=sys.stdout\n",
    ")\n",
    "\n",
    "# logging.basicConfig(format='[%(levelname)s] %(message)s', level=logging.DEBUG, stream=sys.stdout)\n",
    "log = logging.getLogger()\n",
    "\n",
    "# Re-import packages if they change\n",
    "%load_ext autoreload\n",
    "%autoreload 2\n",
    "\n",
    "from tqdm.notebook import tqdm\n",
    "\n",
    "# Third-party libraries\n",
    "import numpy as np\n",
    "import pandas as pd\n",
    "\n",
    "log = logging.getLogger()"
   ]
  },
  {
   "cell_type": "markdown",
   "metadata": {},
   "source": [
    "## Utilities"
   ]
  },
  {
   "cell_type": "code",
   "execution_count": null,
   "metadata": {
    "ExecuteTime": {
     "end_time": "2020-12-06T21:43:51.066995Z",
     "start_time": "2020-12-06T21:43:50.977324Z"
    }
   },
   "outputs": [],
   "source": [
    "RESOURCES_PATH = os.getenv(\"RESOURCES_PATH\", \"/resources\")\n",
    "TOOLS_DIR = os.path.join(RESOURCES_PATH, \"tools\")\n",
    "WORKSPACE_HOME = os.getenv(\"WORKSPACE_HOME\", \"/workspace\")\n",
    "\n",
    "\n",
    "def simplify(text) -> str:\n",
    "    return (\n",
    "        re.compile(r\"[^a-zA-Z0-9-]\")\n",
    "        .sub(\"-\", \" \".join(str(text).split()).strip())\n",
    "        .lower()\n",
    "    )\n",
    "\n",
    "\n",
    "def call(command, **kwargs):\n",
    "    log.debug(\"Executing: \" + command)\n",
    "    return subprocess.call(command, shell=True, **kwargs)\n",
    "\n",
    "\n",
    "def run_tool_installers(\n",
    "    select_tools: List[str] = None,\n",
    "    ignore_tools: List[str] = None,\n",
    "    logs_root_path: str = \"/workspace/installer-logs/\",\n",
    "):\n",
    "    tool_installer_scripts = []\n",
    "    for filename in os.listdir(TOOLS_DIR):\n",
    "        if filename.endswith(\".sh\"):\n",
    "            tool_installer_scripts.append(os.path.join(TOOLS_DIR, filename))\n",
    "\n",
    "    os.makedirs(logs_root_path, exist_ok=True)\n",
    "    for installer_script in tqdm(tool_installer_scripts):\n",
    "        filename = os.path.splitext(os.path.basename(installer_script))[0]\n",
    "\n",
    "        if select_tools and filename not in select_tools:\n",
    "            continue\n",
    "\n",
    "        if ignore_tools and filename in ignore_tools:\n",
    "            continue\n",
    "\n",
    "        log.info(\"Installing \" + filename)\n",
    "\n",
    "        install_log_file = open(os.path.join(logs_root_path, filename + \".txt\"), \"w\")\n",
    "\n",
    "        exit_code = call(\n",
    "            f\"{installer_script} --install\",\n",
    "            stderr=subprocess.STDOUT,\n",
    "            stdout=install_log_file,\n",
    "        )\n",
    "        install_log_file.close()\n",
    "        \n",
    "        if exit_code == 0:\n",
    "            log.info(filename + \": installed successfully.\")\n",
    "        else:\n",
    "            log.info(filename + \": failed to install.\")\n",
    "        \n",
    "        # Cleanup\n",
    "        call(\n",
    "            f\"{RESOURCES_PATH}/scripts/clean-layer.sh\",\n",
    "            stderr=subprocess.STDOUT,\n",
    "            stdout=None,\n",
    "        )"
   ]
  },
  {
   "cell_type": "markdown",
   "metadata": {},
   "source": [
    "## Evaluate Tool Installer"
   ]
  },
  {
   "cell_type": "code",
   "execution_count": null,
   "metadata": {
    "ExecuteTime": {
     "end_time": "2020-12-06T21:46:55.214920Z",
     "start_time": "2020-12-06T21:43:52.774900Z"
    }
   },
   "outputs": [],
   "source": [
    "run_tool_installers()"
   ]
  },
  {
   "cell_type": "markdown",
   "metadata": {},
   "source": [
    "## Check system configuration"
   ]
  },
  {
   "cell_type": "code",
   "execution_count": null,
   "metadata": {},
   "outputs": [],
   "source": [
    "import numpy as np\n",
    "np.show_config()"
   ]
  },
  {
   "cell_type": "code",
   "execution_count": null,
   "metadata": {},
   "outputs": [],
   "source": [
    "!numba -s"
   ]
  }
 ],
 "metadata": {
  "kernelspec": {
   "display_name": "Python 3",
   "language": "python",
   "name": "python3"
  },
  "language_info": {
   "codemirror_mode": {
    "name": "ipython",
    "version": 3
   },
   "file_extension": ".py",
   "mimetype": "text/x-python",
   "name": "python",
   "nbconvert_exporter": "python",
   "pygments_lexer": "ipython3",
   "version": "3.7.6"
  },
  "toc": {
   "base_numbering": 1,
   "nav_menu": {},
   "number_sections": true,
   "sideBar": true,
   "skip_h1_title": false,
   "title_cell": "Table of Contents",
   "title_sidebar": "Contents",
   "toc_cell": false,
   "toc_position": {},
   "toc_section_display": true,
   "toc_window_display": true
  }
 },
 "nbformat": 4,
 "nbformat_minor": 4
}
